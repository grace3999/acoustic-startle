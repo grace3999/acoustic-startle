{
 "cells": [
  {
   "cell_type": "markdown",
   "metadata": {},
   "source": [
    "Goal of analysis script is to take csv file of acoustic startle data (generated from the 'concatenate' function of SR Labs AS GUI) and analyze each AS block for each animal in the file. Two different blocks (with varrying numbers of trials). Result is excel file with a tab for each block."
   ]
  },
  {
   "cell_type": "code",
   "execution_count": 1,
   "metadata": {},
   "outputs": [],
   "source": [
    "import numpy as np"
   ]
  },
  {
   "cell_type": "markdown",
   "metadata": {},
   "source": [
    "Use tkinter to open filedialog prompting user to select file to analyze."
   ]
  },
  {
   "cell_type": "code",
   "execution_count": 2,
   "metadata": {},
   "outputs": [
    {
     "name": "stdout",
     "output_type": "stream",
     "text": [
      "C:/Users/Schindler/Documents/Schindler_Lab/Data/Behavior/Excel_files/Behaviors/AcousticStartle/original/VNS/Round 3/AS VNS 84d 190410.csv\n"
     ]
    }
   ],
   "source": [
    "from tkinter import filedialog\n",
    "from tkinter import *\n",
    " \n",
    "root = Tk()\n",
    "root.filename =  filedialog.askopenfilename(initialdir = \"/\",title = \"Select file\",filetypes = ((\"jpeg files\",\"*.jpg\"),(\"all files\",\"*.*\")))\n",
    "print (root.filename)"
   ]
  },
  {
   "cell_type": "code",
   "execution_count": 3,
   "metadata": {},
   "outputs": [
    {
     "name": "stdout",
     "output_type": "stream",
     "text": [
      "['4/10/201' '09:48:41' ' AbbieHa' '124' ' No Entr' 'No Entry' '       1'\n",
      " '110dBAS ' '      1 ' '1' '15' '83' '18' '14']\n",
      "1911\n"
     ]
    }
   ],
   "source": [
    "fulldata = np.genfromtxt(root.filename, delimiter=\",\", dtype=\"U8\")\n",
    "\n",
    "print(fulldata[0])\n",
    "print(len(fulldata))"
   ]
  },
  {
   "cell_type": "markdown",
   "metadata": {},
   "source": [
    "Generate list of animal numbers for iteration use **animal_numbers[i]"
   ]
  },
  {
   "cell_type": "code",
   "execution_count": 4,
   "metadata": {},
   "outputs": [
    {
     "name": "stdout",
     "output_type": "stream",
     "text": [
      "['124', '125', '126', '112', '114', '140', '115', '116', '117', '127', '128', '131', '118', '119', '120', '133', '134', '135', '136', '138', '109']\n"
     ]
    }
   ],
   "source": [
    "animal_numbers = []\n",
    "for row in fulldata:\n",
    "    if row[3] in animal_numbers:\n",
    "        animal_numbers\n",
    "    else: \n",
    "        animal_numbers.append(row[3])\n",
    "        \n",
    "print(animal_numbers)"
   ]
  },
  {
   "cell_type": "markdown",
   "metadata": {},
   "source": [
    "Parse data for animals into separate data sets (1 per animal) for iteration use **animal_data[animal_numbers[i]]"
   ]
  },
  {
   "cell_type": "code",
   "execution_count": 5,
   "metadata": {},
   "outputs": [
    {
     "name": "stdout",
     "output_type": "stream",
     "text": [
      "0\n",
      "1\n",
      "2\n",
      "3\n",
      "4\n",
      "5\n",
      "6\n",
      "7\n",
      "8\n",
      "9\n",
      "10\n",
      "11\n",
      "12\n",
      "13\n",
      "14\n",
      "15\n",
      "16\n",
      "17\n",
      "18\n",
      "19\n",
      "20\n"
     ]
    }
   ],
   "source": [
    "data = {}\n",
    "i = 0\n",
    "while i < len(animal_numbers):\n",
    "    print(i)\n",
    "    animal = []\n",
    "    for row in fulldata:\n",
    "        if row[3] == animal_numbers[i]:\n",
    "            animal.append(row)\n",
    "    data[animal_numbers[i]] = animal\n",
    "    i = i + 1"
   ]
  },
  {
   "cell_type": "markdown",
   "metadata": {},
   "source": [
    "Find average basal startle level (assessed once per each two min break between blocks). Basal startle level = animal_numbers[0][50][7]. Search for basal startle level parameter by searching for row[7] (parameter name)."
   ]
  },
  {
   "cell_type": "code",
   "execution_count": 6,
   "metadata": {},
   "outputs": [
    {
     "ename": "SyntaxError",
     "evalue": "invalid syntax (<ipython-input-6-906d7f54691a>, line 9)",
     "output_type": "error",
     "traceback": [
      "\u001b[1;36m  File \u001b[1;32m\"<ipython-input-6-906d7f54691a>\"\u001b[1;36m, line \u001b[1;32m9\u001b[0m\n\u001b[1;33m    ave = sum/\u001b[0m\n\u001b[1;37m              ^\u001b[0m\n\u001b[1;31mSyntaxError\u001b[0m\u001b[1;31m:\u001b[0m invalid syntax\n"
     ]
    }
   ],
   "source": [
    "i = 0\n",
    "twobreak_final = {}\n",
    "while i < len(animal_numbers):\n",
    "    print(i)\n",
    "    sum = 0\n",
    "    for row in data[animal_numbers[i]]:\n",
    "        if row[7] == data[animal_numbers[0]][50][7]:\n",
    "            sum = sum + np.int(row[11])\n",
    "    ave = sum/\n",
    "    twobreak_final[animal_numbers[i]] = ave\n",
    "    i = i + 1  \n",
    "    "
   ]
  },
  {
   "cell_type": "markdown",
   "metadata": {},
   "source": [
    "Block 1 is 50 trials of the same parameter (110dB). To assess habituation across trials, first bin by 10 trials and then put each animal's data into an array. "
   ]
  },
  {
   "cell_type": "code",
   "execution_count": 7,
   "metadata": {},
   "outputs": [
    {
     "name": "stdout",
     "output_type": "stream",
     "text": [
      "0\n",
      "1\n",
      "2\n",
      "3\n",
      "4\n",
      "5\n",
      "6\n",
      "7\n",
      "8\n",
      "9\n",
      "10\n",
      "11\n",
      "12\n",
      "13\n",
      "14\n",
      "15\n",
      "16\n",
      "17\n",
      "18\n",
      "19\n",
      "20\n"
     ]
    }
   ],
   "source": [
    "i = 0\n",
    "block1ave_final = {}\n",
    "while i < len(animal_numbers):\n",
    "    print(i)\n",
    "    j = 0\n",
    "    ave_list = []\n",
    "    k = 0\n",
    "    sum = 0\n",
    "    while j < 50:\n",
    "        while k < 10:\n",
    "            sum = sum + np.int((data[animal_numbers[i]][j][11]))\n",
    "            k = k + 1\n",
    "            j = j + 1\n",
    "        ave = sum/10\n",
    "        ave_list.append(ave)\n",
    "        k = 0\n",
    "        sum = 0\n",
    "    block1ave_final[animal_numbers[i]] = ave_list\n",
    "    i = i + 1"
   ]
  },
  {
   "cell_type": "markdown",
   "metadata": {},
   "source": [
    "Compute average startle of first 5 block 1 trials to use to calculate block 2 PPI"
   ]
  },
  {
   "cell_type": "code",
   "execution_count": 8,
   "metadata": {},
   "outputs": [
    {
     "name": "stdout",
     "output_type": "stream",
     "text": [
      "0\n",
      "1\n",
      "2\n",
      "3\n",
      "4\n",
      "5\n",
      "6\n",
      "7\n",
      "8\n",
      "9\n",
      "10\n",
      "11\n",
      "12\n",
      "13\n",
      "14\n",
      "15\n",
      "16\n",
      "17\n",
      "18\n",
      "19\n",
      "20\n"
     ]
    }
   ],
   "source": [
    "i = 0\n",
    "block1ave_firstfive = {}\n",
    "while i < len(animal_numbers):\n",
    "    print(i)\n",
    "    j = 0\n",
    "    ave_list = []\n",
    "    k = 0\n",
    "    sum = 0\n",
    "    while j < 5:\n",
    "        while k < 5:\n",
    "            sum = sum + np.int((data[animal_numbers[i]][j][11]))\n",
    "            k = k + 1\n",
    "            j = j + 1\n",
    "        ave = sum/5\n",
    "        ave_list.append(ave)\n",
    "        k = 0\n",
    "        sum = 0\n",
    "    block1ave_firstfive[animal_numbers[i]] = ave_list\n",
    "    i = i + 1\n"
   ]
  },
  {
   "cell_type": "markdown",
   "metadata": {},
   "source": [
    "Block 2 contains multiple trials of multiple different parameters (pesudo-randomly assigned to trials). General strategy is to generate list of parameters for the block. Find average of each parameter for each animal. After finding average of each parameter, need to also compute PPI."
   ]
  },
  {
   "cell_type": "markdown",
   "metadata": {},
   "source": [
    "Generate a list of block_2 parameters"
   ]
  },
  {
   "cell_type": "code",
   "execution_count": 9,
   "metadata": {},
   "outputs": [
    {
     "name": "stdout",
     "output_type": "stream",
     "text": [
      "['200msAS ', '20msAS  ', '100msAS ', '50msAS  ', '2secAS  ', '1000msAS', '500msAS ', '10msAS  ']\n"
     ]
    }
   ],
   "source": [
    "j = 0\n",
    "block2_param = []\n",
    "for row in data[animal_numbers[1]][51:91]:\n",
    "    if row[7] in block2_param:\n",
    "        j = j + 1\n",
    "    else: \n",
    "        block2_param.append(row[7])\n",
    "        j = j + 1\n",
    "    \n",
    "print(block2_param)"
   ]
  },
  {
   "cell_type": "markdown",
   "metadata": {},
   "source": [
    "Block 2 assesses PPI and is 40 trials of 8 different parameters. First find average of each parameter. "
   ]
  },
  {
   "cell_type": "code",
   "execution_count": 10,
   "metadata": {},
   "outputs": [
    {
     "name": "stdout",
     "output_type": "stream",
     "text": [
      "0\n",
      "1\n",
      "2\n",
      "3\n",
      "4\n",
      "5\n",
      "6\n",
      "7\n",
      "8\n",
      "9\n",
      "10\n",
      "11\n",
      "12\n",
      "13\n",
      "14\n",
      "15\n",
      "16\n",
      "17\n",
      "18\n",
      "19\n",
      "20\n"
     ]
    }
   ],
   "source": [
    "i = 0\n",
    "block2_semifinal = {}\n",
    "while i < len(animal_numbers):\n",
    "    print(i)\n",
    "    j = 0\n",
    "    param_sum = {}\n",
    "    block2_ave = {}\n",
    "    while j < len(block2_param):\n",
    "        param_sum[block2_param[j]] = 0\n",
    "        for row in data[animal_numbers[i]][51:91]:\n",
    "            if row[7] == block2_param[j]:\n",
    "                param_sum[block2_param[j]] = param_sum[block2_param[j]] + np.int(row[11])\n",
    "        ave = param_sum[block2_param[j]]/5\n",
    "        block2_ave[block2_param[j]] = ave\n",
    "        j = j + 1\n",
    "    block2_semifinal[animal_numbers[i]] = block2_ave\n",
    "    i = i + 1"
   ]
  },
  {
   "cell_type": "markdown",
   "metadata": {},
   "source": [
    "Loop through animal numbers to compute PPI for each block 2 parameter (using block 1 pulse data from first 5 trials)"
   ]
  },
  {
   "cell_type": "code",
   "execution_count": 11,
   "metadata": {},
   "outputs": [
    {
     "name": "stdout",
     "output_type": "stream",
     "text": [
      "0\n",
      "1\n",
      "2\n",
      "3\n",
      "4\n",
      "5\n",
      "6\n",
      "7\n",
      "8\n",
      "9\n",
      "10\n",
      "11\n",
      "12\n",
      "13\n",
      "14\n",
      "15\n",
      "16\n",
      "17\n",
      "18\n",
      "19\n",
      "20\n"
     ]
    }
   ],
   "source": [
    "i = 0\n",
    "block2_final = {}\n",
    "while i < len(animal_numbers):\n",
    "    print(i)\n",
    "    j = 0\n",
    "    block2_ave = {}\n",
    "    while j < len(block2_param):\n",
    "        block2_ave[block2_param[j]] = np.float(block2_semifinal[animal_numbers[i]][block2_param[j]]) / np.float(block1ave_final[animal_numbers[i]][0])\n",
    "        j = j + 1\n",
    "    block2_final[animal_numbers[i]] = block2_ave\n",
    "    i = i + 1"
   ]
  },
  {
   "cell_type": "markdown",
   "metadata": {},
   "source": [
    "Combine blocks with only one data point per animal into an array and put array into dictionary stored via animal"
   ]
  },
  {
   "cell_type": "code",
   "execution_count": 12,
   "metadata": {},
   "outputs": [
    {
     "ename": "NameError",
     "evalue": "name 'twobreak_final' is not defined",
     "output_type": "error",
     "traceback": [
      "\u001b[1;31m---------------------------------------------------------------------------\u001b[0m",
      "\u001b[1;31mNameError\u001b[0m                                 Traceback (most recent call last)",
      "\u001b[1;32m<ipython-input-12-869762fd43b9>\u001b[0m in \u001b[0;36m<module>\u001b[1;34m\u001b[0m\n\u001b[0;32m      1\u001b[0m \u001b[0mi\u001b[0m \u001b[1;33m=\u001b[0m \u001b[1;36m0\u001b[0m\u001b[1;33m\u001b[0m\u001b[1;33m\u001b[0m\u001b[0m\n\u001b[0;32m      2\u001b[0m \u001b[0maveblocks_final\u001b[0m \u001b[1;33m=\u001b[0m \u001b[1;33m{\u001b[0m\u001b[1;33m}\u001b[0m\u001b[1;33m\u001b[0m\u001b[1;33m\u001b[0m\u001b[0m\n\u001b[1;32m----> 3\u001b[1;33m \u001b[0maveblocks\u001b[0m \u001b[1;33m=\u001b[0m \u001b[1;33m[\u001b[0m\u001b[0mtwobreak_final\u001b[0m\u001b[1;33m]\u001b[0m\u001b[1;33m\u001b[0m\u001b[1;33m\u001b[0m\u001b[0m\n\u001b[0m\u001b[0;32m      4\u001b[0m \u001b[1;32mwhile\u001b[0m \u001b[0mi\u001b[0m \u001b[1;33m<\u001b[0m \u001b[0mlen\u001b[0m\u001b[1;33m(\u001b[0m\u001b[0manimal_numbers\u001b[0m\u001b[1;33m)\u001b[0m\u001b[1;33m:\u001b[0m\u001b[1;33m\u001b[0m\u001b[1;33m\u001b[0m\u001b[0m\n\u001b[0;32m      5\u001b[0m     \u001b[0mprint\u001b[0m\u001b[1;33m(\u001b[0m\u001b[0mi\u001b[0m\u001b[1;33m)\u001b[0m\u001b[1;33m\u001b[0m\u001b[1;33m\u001b[0m\u001b[0m\n",
      "\u001b[1;31mNameError\u001b[0m: name 'twobreak_final' is not defined"
     ]
    }
   ],
   "source": [
    "i = 0\n",
    "aveblocks_final = {}\n",
    "aveblocks = [twobreak_final]\n",
    "while i < len(animal_numbers):\n",
    "    print(i)\n",
    "    j = 0\n",
    "    ave_final = []\n",
    "    while j < len(aveblocks):\n",
    "        ave_final.append(aveblocks[j][animal_numbers[i]])\n",
    "        j = j + 1\n",
    "    aveblocks_final[animal_numbers[i]] = ave_final\n",
    "    i = i + 1"
   ]
  },
  {
   "cell_type": "markdown",
   "metadata": {},
   "source": [
    "Create final lists of data and block names."
   ]
  },
  {
   "cell_type": "code",
   "execution_count": 13,
   "metadata": {},
   "outputs": [],
   "source": [
    "final = [aveblocks_final, block1ave_final, block2_final]\n",
    "finalnames = ['aveblocks_final', 'block1ave_final', 'block2_final']"
   ]
  },
  {
   "cell_type": "markdown",
   "metadata": {},
   "source": [
    "Use pandas to convert each final block data into a dataframe. Use ExcelWriter to export each data frame to a separate tab in an excel workboook."
   ]
  },
  {
   "cell_type": "code",
   "execution_count": 14,
   "metadata": {},
   "outputs": [
    {
     "name": "stdout",
     "output_type": "stream",
     "text": [
      "0\n",
      "1\n",
      "2\n"
     ]
    }
   ],
   "source": [
    "import pandas as pd\n",
    "writer = pd.ExcelWriter(root.filename + '.analyzed.xlsx', engine='xlsxwriter')\n",
    "i = 0\n",
    "for row in final:\n",
    "    print(i)\n",
    "    df = pd.DataFrame(data=row)\n",
    "    df.to_excel(writer, sheet_name=finalnames[i])\n",
    "    i = i + 1\n",
    "writer.save()"
   ]
  },
  {
   "cell_type": "code",
   "execution_count": null,
   "metadata": {},
   "outputs": [],
   "source": []
  },
  {
   "cell_type": "code",
   "execution_count": null,
   "metadata": {
    "collapsed": true
   },
   "outputs": [],
   "source": []
  },
  {
   "cell_type": "code",
   "execution_count": null,
   "metadata": {
    "collapsed": true
   },
   "outputs": [],
   "source": []
  }
 ],
 "metadata": {
  "kernelspec": {
   "display_name": "Python 3",
   "language": "python",
   "name": "python3"
  },
  "language_info": {
   "codemirror_mode": {
    "name": "ipython",
    "version": 3
   },
   "file_extension": ".py",
   "mimetype": "text/x-python",
   "name": "python",
   "nbconvert_exporter": "python",
   "pygments_lexer": "ipython3",
   "version": "3.6.7"
  }
 },
 "nbformat": 4,
 "nbformat_minor": 2
}
