{
 "cells": [
  {
   "cell_type": "markdown",
   "metadata": {},
   "source": [
    "Goal of analysis script is to take csv file of acoustic startle data (generated from the 'concatenate' function of SR Labs AS GUI) and analyze each AS block for each animal in the file. Five different blocks (with varrying numbers of trials). Result is excel file with a tab for each block."
   ]
  },
  {
   "cell_type": "code",
   "execution_count": 1,
   "metadata": {
    "collapsed": true
   },
   "outputs": [],
   "source": [
    "import numpy as np"
   ]
  },
  {
   "cell_type": "markdown",
   "metadata": {},
   "source": [
    "Use tkinter to open filedialog prompting user to select file to analyze."
   ]
  },
  {
   "cell_type": "code",
   "execution_count": 2,
   "metadata": {},
   "outputs": [
    {
     "name": "stdout",
     "output_type": "stream",
     "text": [
      "C:/Users/Schindler/Documents/Schindler_Lab/Data/Behavior/Excel_files/AcousticStartle/18 7 12 timecourse pre.csv\n"
     ]
    }
   ],
   "source": [
    "from tkinter import filedialog\n",
    "from tkinter import *\n",
    " \n",
    "root = Tk()\n",
    "root.filename =  filedialog.askopenfilename(initialdir = \"/\",title = \"Select file\",filetypes = ((\"jpeg files\",\"*.jpg\"),(\"all files\",\"*.*\")))\n",
    "print (root.filename)"
   ]
  },
  {
   "cell_type": "code",
   "execution_count": 3,
   "metadata": {},
   "outputs": [
    {
     "name": "stdout",
     "output_type": "stream",
     "text": [
      "['7/11/201' '14:28:41' ' AbbieFu' '338' ' No Entr' 'No Entry' '       1'\n",
      " '110dBAS ' '      1 ' '1' '0' '430' '16' '36']\n",
      "6408\n"
     ]
    }
   ],
   "source": [
    "fulldata = np.genfromtxt(root.filename, delimiter=\",\", dtype=\"U8\")\n",
    "\n",
    "print(fulldata[0])\n",
    "print(len(fulldata))"
   ]
  },
  {
   "cell_type": "markdown",
   "metadata": {},
   "source": [
    "Generate list of animal numbers for iteration use **animal_numbers[i]"
   ]
  },
  {
   "cell_type": "code",
   "execution_count": 4,
   "metadata": {},
   "outputs": [
    {
     "name": "stdout",
     "output_type": "stream",
     "text": [
      "['338', '339', '340', '320', '321', '322', '353', '354', '355', '323', '324', '325', '326', '327', '328', '329', '330', '331', '332', '333', '334', '335', '336', '337', '341', '342', '343', '344', '345', '346', '347', '348', '349', '350', '351', '352']\n"
     ]
    }
   ],
   "source": [
    "animal_numbers = []\n",
    "for row in fulldata:\n",
    "    if row[3] in animal_numbers:\n",
    "        animal_numbers\n",
    "    else: \n",
    "        animal_numbers.append(row[3])\n",
    "        \n",
    "print(animal_numbers)"
   ]
  },
  {
   "cell_type": "markdown",
   "metadata": {},
   "source": [
    "Parse data for animals into separate data sets (1 per animal) for iteration use **animal_data[animal_numbers[i]]"
   ]
  },
  {
   "cell_type": "code",
   "execution_count": 5,
   "metadata": {},
   "outputs": [
    {
     "name": "stdout",
     "output_type": "stream",
     "text": [
      "0\n",
      "1\n",
      "2\n",
      "3\n",
      "4\n",
      "5\n",
      "6\n",
      "7\n",
      "8\n",
      "9\n",
      "10\n",
      "11\n",
      "12\n",
      "13\n",
      "14\n",
      "15\n",
      "16\n",
      "17\n",
      "18\n",
      "19\n",
      "20\n",
      "21\n",
      "22\n",
      "23\n",
      "24\n",
      "25\n",
      "26\n",
      "27\n",
      "28\n",
      "29\n",
      "30\n",
      "31\n",
      "32\n",
      "33\n",
      "34\n",
      "35\n"
     ]
    }
   ],
   "source": [
    "data = {}\n",
    "i = 0\n",
    "while i < len(animal_numbers):\n",
    "    print(i)\n",
    "    animal = []\n",
    "    for row in fulldata:\n",
    "        if row[3] == animal_numbers[i]:\n",
    "            animal.append(row)\n",
    "    data[animal_numbers[i]] = animal\n",
    "    i = i + 1"
   ]
  },
  {
   "cell_type": "markdown",
   "metadata": {},
   "source": [
    "Find average basal startle level (assessed once per each two min break between blocks). Basal startle level = animal_numbers[0][50][7]. Search for basal startle level parameter by searching for row[7] (parameter name)."
   ]
  },
  {
   "cell_type": "code",
   "execution_count": 6,
   "metadata": {},
   "outputs": [
    {
     "name": "stdout",
     "output_type": "stream",
     "text": [
      "0\n",
      "1\n",
      "2\n",
      "3\n",
      "4\n",
      "5\n",
      "6\n",
      "7\n",
      "8\n",
      "9\n",
      "10\n",
      "11\n",
      "12\n",
      "13\n",
      "14\n",
      "15\n",
      "16\n",
      "17\n",
      "18\n",
      "19\n",
      "20\n",
      "21\n",
      "22\n",
      "23\n",
      "24\n",
      "25\n",
      "26\n",
      "27\n",
      "28\n",
      "29\n",
      "30\n",
      "31\n",
      "32\n",
      "33\n",
      "34\n",
      "35\n"
     ]
    }
   ],
   "source": [
    "i = 0\n",
    "twobreak_final = {}\n",
    "while i < len(animal_numbers):\n",
    "    print(i)\n",
    "    sum = 0\n",
    "    for row in data[animal_numbers[i]]:\n",
    "        if row[7] == data[animal_numbers[0]][50][7]:\n",
    "            sum = sum + np.int(row[11])\n",
    "    ave = sum/4\n",
    "    twobreak_final[animal_numbers[i]] = ave\n",
    "    i = i + 1  "
   ]
  },
  {
   "cell_type": "markdown",
   "metadata": {},
   "source": [
    "Block 1 is 50 trials of the same parameter (110dB). To assess habituation across trials, first bin by 10 trials and then put each animal's data into an array. "
   ]
  },
  {
   "cell_type": "code",
   "execution_count": 8,
   "metadata": {},
   "outputs": [
    {
     "name": "stdout",
     "output_type": "stream",
     "text": [
      "0\n",
      "1\n",
      "2\n",
      "3\n",
      "4\n",
      "5\n",
      "6\n",
      "7\n",
      "8\n",
      "9\n",
      "10\n",
      "11\n",
      "12\n",
      "13\n",
      "14\n",
      "15\n",
      "16\n",
      "17\n",
      "18\n",
      "19\n",
      "20\n",
      "21\n",
      "22\n",
      "23\n",
      "24\n",
      "25\n",
      "26\n",
      "27\n",
      "28\n",
      "29\n",
      "30\n",
      "31\n",
      "32\n",
      "33\n",
      "34\n",
      "35\n"
     ]
    }
   ],
   "source": [
    "i = 0\n",
    "block1ave_final = {}\n",
    "while i < len(animal_numbers):\n",
    "    print(i)\n",
    "    j = 0\n",
    "    ave_list = []\n",
    "    k = 0\n",
    "    sum = 0\n",
    "    while j < 50:\n",
    "        while k < 10:\n",
    "            sum = sum + np.int((data[animal_numbers[i]][j][11]))\n",
    "            k = k + 1\n",
    "            j = j + 1\n",
    "        ave = sum/10\n",
    "        ave_list.append(ave)\n",
    "        k = 0\n",
    "        sum = 0\n",
    "    block1ave_final[animal_numbers[i]] = ave_list\n",
    "    i = i + 1"
   ]
  },
  {
   "cell_type": "markdown",
   "metadata": {},
   "source": [
    "Blocks 2, 3, and 4 contain multiple trials of multiple different parameters (pesudo-randomly assigned to trials). General strategy is to generate list of parameters for the block. Find average of each parameter for each animal. Block 2 assesses 9 different dB levels. Blocks 3 and 4 are PPI blocks, so after finding average of each parameter, need to also compute PPI."
   ]
  },
  {
   "cell_type": "markdown",
   "metadata": {},
   "source": [
    "Generate a list of block_2 parameters"
   ]
  },
  {
   "cell_type": "code",
   "execution_count": 9,
   "metadata": {},
   "outputs": [
    {
     "name": "stdout",
     "output_type": "stream",
     "text": [
      "['100dBAS ', '95dBAS  ', '90dBAS  ', '120dBAS ', '75dBAS  ', '85dBAS  ', '70dBAS  ', '80dBAS  ', '110dBAS ']\n"
     ]
    }
   ],
   "source": [
    "j = 0\n",
    "block2_param = []\n",
    "for row in data[animal_numbers[1]][51:105]:\n",
    "    if row[7] in block2_param:\n",
    "        j = j + 1\n",
    "    else: \n",
    "        block2_param.append(row[7])\n",
    "        j = j + 1\n",
    "    \n",
    "print(block2_param)"
   ]
  },
  {
   "cell_type": "markdown",
   "metadata": {},
   "source": [
    "Block 2 is 54 trials of 9 different parameters, so final data point is a dictonary of animal numbers and within each animal number dictonary is a dictionary of block 2 parameters and the average output for each.\n"
   ]
  },
  {
   "cell_type": "code",
   "execution_count": 10,
   "metadata": {},
   "outputs": [
    {
     "name": "stdout",
     "output_type": "stream",
     "text": [
      "0\n",
      "1\n",
      "2\n",
      "3\n",
      "4\n",
      "5\n",
      "6\n",
      "7\n",
      "8\n",
      "9\n",
      "10\n",
      "11\n",
      "12\n",
      "13\n",
      "14\n",
      "15\n",
      "16\n",
      "17\n",
      "18\n",
      "19\n",
      "20\n",
      "21\n",
      "22\n",
      "23\n",
      "24\n",
      "25\n",
      "26\n",
      "27\n",
      "28\n",
      "29\n",
      "30\n",
      "31\n",
      "32\n",
      "33\n",
      "34\n",
      "35\n"
     ]
    }
   ],
   "source": [
    "i = 0\n",
    "block2_final = {}\n",
    "while i < len(animal_numbers):\n",
    "    print(i)\n",
    "    j = 0\n",
    "    param_sum = {}\n",
    "    block2_ave = {}\n",
    "    while j < len(block2_param):\n",
    "        param_sum[block2_param[j]] = 0\n",
    "        for row in data[animal_numbers[i]][51:105]:\n",
    "            if row[7] == block2_param[j]:\n",
    "                param_sum[block2_param[j]] = param_sum[block2_param[j]] + np.int(row[11])\n",
    "        ave = param_sum[block2_param[j]]/6\n",
    "        block2_ave[block2_param[j]] = ave\n",
    "        j = j + 1\n",
    "    block2_final[animal_numbers[i]] = block2_ave\n",
    "    i = i + 1"
   ]
  },
  {
   "cell_type": "markdown",
   "metadata": {
    "collapsed": true
   },
   "source": [
    "Generate a list of block_3 parameters"
   ]
  },
  {
   "cell_type": "code",
   "execution_count": 11,
   "metadata": {},
   "outputs": [
    {
     "name": "stdout",
     "output_type": "stream",
     "text": [
      "['80b4110A', '70b4110A', '75b4110A', '85b4120A', '75b4120A', '85b4110A']\n"
     ]
    }
   ],
   "source": [
    "j = 0\n",
    "block3_param = []\n",
    "for row in data[animal_numbers[1]][106:135]:\n",
    "    if row[7] in block3_param:\n",
    "        j = j + 1\n",
    "    else: \n",
    "        block3_param.append(row[7])\n",
    "        j = j + 1\n",
    "    \n",
    "print(block3_param)"
   ]
  },
  {
   "cell_type": "markdown",
   "metadata": {},
   "source": [
    "Block 3 assesses PPI and is 40 trials of 6 different parameters. First find average of each parameter. "
   ]
  },
  {
   "cell_type": "code",
   "execution_count": 12,
   "metadata": {},
   "outputs": [
    {
     "name": "stdout",
     "output_type": "stream",
     "text": [
      "0\n",
      "1\n",
      "2\n",
      "3\n",
      "4\n",
      "5\n",
      "6\n",
      "7\n",
      "8\n",
      "9\n",
      "10\n",
      "11\n",
      "12\n",
      "13\n",
      "14\n",
      "15\n",
      "16\n",
      "17\n",
      "18\n",
      "19\n",
      "20\n",
      "21\n",
      "22\n",
      "23\n",
      "24\n",
      "25\n",
      "26\n",
      "27\n",
      "28\n",
      "29\n",
      "30\n",
      "31\n",
      "32\n",
      "33\n",
      "34\n",
      "35\n"
     ]
    }
   ],
   "source": [
    "i = 0\n",
    "block3_semifinal = {}\n",
    "while i < len(animal_numbers):\n",
    "    print(i)\n",
    "    j = 0\n",
    "    param_sum = {}\n",
    "    block3_ave = {}\n",
    "    while j < len(block3_param):\n",
    "        param_sum[block3_param[j]] = 0\n",
    "        for row in data[animal_numbers[i]][106:135]:\n",
    "            if row[7] == block3_param[j]:\n",
    "                param_sum[block3_param[j]] = param_sum[block3_param[j]] + np.int(row[11])\n",
    "        ave = param_sum[block3_param[j]]/5\n",
    "        block3_ave[block3_param[j]] = ave\n",
    "        j = j + 1\n",
    "    block3_semifinal[animal_numbers[i]] = block3_ave\n",
    "    i = i + 1"
   ]
  },
  {
   "cell_type": "markdown",
   "metadata": {},
   "source": [
    "Loop through animal numbers to compute PPI for each block 3 parameter (using block 2 pulse data)"
   ]
  },
  {
   "cell_type": "code",
   "execution_count": 13,
   "metadata": {},
   "outputs": [
    {
     "name": "stdout",
     "output_type": "stream",
     "text": [
      "0\n",
      "1\n",
      "2\n",
      "3\n",
      "4\n",
      "5\n",
      "6\n",
      "7\n",
      "8\n",
      "9\n",
      "10\n",
      "11\n",
      "12\n",
      "13\n",
      "14\n",
      "15\n",
      "16\n",
      "17\n",
      "18\n",
      "19\n",
      "20\n",
      "21\n",
      "22\n",
      "23\n",
      "24\n",
      "25\n",
      "26\n",
      "27\n",
      "28\n",
      "29\n",
      "30\n",
      "31\n",
      "32\n",
      "33\n",
      "34\n",
      "35\n"
     ]
    }
   ],
   "source": [
    "i = 0\n",
    "block3_final = {}\n",
    "while i < len(animal_numbers):\n",
    "    print(i)\n",
    "    block3_ave = {}\n",
    "    block3_ave[block3_param[0]] = np.float(block3_semifinal[animal_numbers[i]][block3_param[0]]) / np.float(block2_final[animal_numbers[i]][block2_param[8]])\n",
    "    block3_ave[block3_param[1]] = np.float(block3_semifinal[animal_numbers[i]][block3_param[1]]) / np.float(block2_final[animal_numbers[i]][block2_param[8]])\n",
    "    block3_ave[block3_param[2]] = np.float(block3_semifinal[animal_numbers[i]][block3_param[2]]) / np.float(block2_final[animal_numbers[i]][block2_param[8]])\n",
    "    block3_ave[block3_param[5]] = np.float(block3_semifinal[animal_numbers[i]][block3_param[5]]) / np.float(block2_final[animal_numbers[i]][block2_param[8]])\n",
    "    block3_ave[block3_param[3]] = np.float(block3_semifinal[animal_numbers[i]][block3_param[3]]) / np.float(block2_final[animal_numbers[i]][block2_param[3]])\n",
    "    block3_ave[block3_param[4]] = np.float(block3_semifinal[animal_numbers[i]][block3_param[4]]) / np.float(block2_final[animal_numbers[i]][block2_param[3]])\n",
    "    block3_final[animal_numbers[i]] = block3_ave\n",
    "    i = i + 1"
   ]
  },
  {
   "cell_type": "markdown",
   "metadata": {},
   "source": [
    "Generate a list of block_4 parameters"
   ]
  },
  {
   "cell_type": "code",
   "execution_count": 15,
   "metadata": {},
   "outputs": [
    {
     "name": "stdout",
     "output_type": "stream",
     "text": [
      "['200msAS ', '20msAS  ', '100msAS ', '50msAS  ', '2secAS  ', '1000msAS', '500msAS ', '10msAS  ']\n"
     ]
    }
   ],
   "source": [
    "j = 0\n",
    "block4_param = []\n",
    "for row in data[animal_numbers[1]][137:177]:\n",
    "    if row[7] in block4_param:\n",
    "        j = j + 1\n",
    "    else: \n",
    "        block4_param.append(row[7])\n",
    "        j = j + 1\n",
    "    \n",
    "print(block4_param)"
   ]
  },
  {
   "cell_type": "markdown",
   "metadata": {},
   "source": [
    "Block 4 assesses PPI and is 40 trials of 8 different parameters. First find average of each parameter. "
   ]
  },
  {
   "cell_type": "code",
   "execution_count": 16,
   "metadata": {},
   "outputs": [
    {
     "name": "stdout",
     "output_type": "stream",
     "text": [
      "0\n",
      "1\n",
      "2\n",
      "3\n",
      "4\n",
      "5\n",
      "6\n",
      "7\n",
      "8\n",
      "9\n",
      "10\n",
      "11\n",
      "12\n",
      "13\n",
      "14\n",
      "15\n",
      "16\n",
      "17\n",
      "18\n",
      "19\n",
      "20\n",
      "21\n",
      "22\n",
      "23\n",
      "24\n",
      "25\n",
      "26\n",
      "27\n",
      "28\n",
      "29\n",
      "30\n",
      "31\n",
      "32\n",
      "33\n",
      "34\n",
      "35\n"
     ]
    }
   ],
   "source": [
    "i = 0\n",
    "block4_semifinal = {}\n",
    "while i < len(animal_numbers):\n",
    "    print(i)\n",
    "    j = 0\n",
    "    param_sum = {}\n",
    "    block4_ave = {}\n",
    "    while j < len(block4_param):\n",
    "        param_sum[block4_param[j]] = 0\n",
    "        for row in data[animal_numbers[i]][137:177]:\n",
    "            if row[7] == block4_param[j]:\n",
    "                param_sum[block4_param[j]] = param_sum[block4_param[j]] + np.int(row[11])\n",
    "        ave = param_sum[block4_param[j]]/5\n",
    "        block4_ave[block4_param[j]] = ave\n",
    "        j = j + 1\n",
    "    block4_semifinal[animal_numbers[i]] = block4_ave\n",
    "    i = i + 1"
   ]
  },
  {
   "cell_type": "markdown",
   "metadata": {},
   "source": [
    "Loop through animal numbers to compute PPI for each block 4 parameter (using block 2 pulse data)"
   ]
  },
  {
   "cell_type": "code",
   "execution_count": 17,
   "metadata": {},
   "outputs": [
    {
     "name": "stdout",
     "output_type": "stream",
     "text": [
      "0\n",
      "1\n",
      "2\n",
      "3\n",
      "4\n",
      "5\n",
      "6\n",
      "7\n",
      "8\n",
      "9\n",
      "10\n",
      "11\n",
      "12\n",
      "13\n",
      "14\n",
      "15\n",
      "16\n",
      "17\n",
      "18\n",
      "19\n",
      "20\n",
      "21\n",
      "22\n",
      "23\n",
      "24\n",
      "25\n",
      "26\n",
      "27\n",
      "28\n",
      "29\n",
      "30\n",
      "31\n",
      "32\n",
      "33\n",
      "34\n",
      "35\n"
     ]
    }
   ],
   "source": [
    "i = 0\n",
    "block4_final = {}\n",
    "while i < len(animal_numbers):\n",
    "    print(i)\n",
    "    j = 0\n",
    "    block4_ave = {}\n",
    "    while j < len(block4_param):\n",
    "        block4_ave[block4_param[j]] = np.float(block4_semifinal[animal_numbers[i]][block4_param[j]]) / np.float(block2_final[animal_numbers[i]][block2_param[8]])\n",
    "        j = j + 1\n",
    "    block4_final[animal_numbers[i]] = block4_ave\n",
    "    i = i + 1"
   ]
  },
  {
   "cell_type": "markdown",
   "metadata": {},
   "source": [
    "Combine blocks with only one data point per animal into an array and put array into dictionary stored via animal"
   ]
  },
  {
   "cell_type": "code",
   "execution_count": 18,
   "metadata": {},
   "outputs": [
    {
     "name": "stdout",
     "output_type": "stream",
     "text": [
      "0\n",
      "1\n",
      "2\n",
      "3\n",
      "4\n",
      "5\n",
      "6\n",
      "7\n",
      "8\n",
      "9\n",
      "10\n",
      "11\n",
      "12\n",
      "13\n",
      "14\n",
      "15\n",
      "16\n",
      "17\n",
      "18\n",
      "19\n",
      "20\n",
      "21\n",
      "22\n",
      "23\n",
      "24\n",
      "25\n",
      "26\n",
      "27\n",
      "28\n",
      "29\n",
      "30\n",
      "31\n",
      "32\n",
      "33\n",
      "34\n",
      "35\n"
     ]
    }
   ],
   "source": [
    "i = 0\n",
    "aveblocks_final = {}\n",
    "aveblocks = [twobreak_final]\n",
    "while i < len(animal_numbers):\n",
    "    print(i)\n",
    "    j = 0\n",
    "    ave_final = []\n",
    "    while j < len(aveblocks):\n",
    "        ave_final.append(aveblocks[j][animal_numbers[i]])\n",
    "        j = j + 1\n",
    "    aveblocks_final[animal_numbers[i]] = ave_final\n",
    "    i = i + 1"
   ]
  },
  {
   "cell_type": "markdown",
   "metadata": {},
   "source": [
    "Create final lists of data and block names."
   ]
  },
  {
   "cell_type": "code",
   "execution_count": 19,
   "metadata": {
    "collapsed": true
   },
   "outputs": [],
   "source": [
    "final = [aveblocks_final, block1ave_final, block2_final, block3_final, block4_final]\n",
    "finalnames = ['aveblocks_final', 'block1ave_final', 'block2_final', 'block3_final', 'block4_final']"
   ]
  },
  {
   "cell_type": "markdown",
   "metadata": {},
   "source": [
    "Use pandas to convert each final block data into a dataframe. Use ExcelWriter to export each data frame to a separate tab in an excel workboook."
   ]
  },
  {
   "cell_type": "code",
   "execution_count": 20,
   "metadata": {},
   "outputs": [
    {
     "name": "stdout",
     "output_type": "stream",
     "text": [
      "0\n",
      "1\n",
      "2\n",
      "3\n",
      "4\n"
     ]
    }
   ],
   "source": [
    "import pandas as pd\n",
    "writer = pd.ExcelWriter(root.filename + '.analyzed.xlsx', engine='xlsxwriter')\n",
    "i = 0\n",
    "for row in final:\n",
    "    print(i)\n",
    "    df = pd.DataFrame(data=row)\n",
    "    df.to_excel(writer, sheet_name=finalnames[i])\n",
    "    i = i + 1\n",
    "writer.save()"
   ]
  },
  {
   "cell_type": "code",
   "execution_count": null,
   "metadata": {
    "collapsed": true
   },
   "outputs": [],
   "source": []
  },
  {
   "cell_type": "code",
   "execution_count": null,
   "metadata": {
    "collapsed": true
   },
   "outputs": [],
   "source": []
  },
  {
   "cell_type": "code",
   "execution_count": null,
   "metadata": {
    "collapsed": true
   },
   "outputs": [],
   "source": []
  }
 ],
 "metadata": {
  "kernelspec": {
   "display_name": "Python 3",
   "language": "python",
   "name": "python3"
  },
  "language_info": {
   "codemirror_mode": {
    "name": "ipython",
    "version": 3
   },
   "file_extension": ".py",
   "mimetype": "text/x-python",
   "name": "python",
   "nbconvert_exporter": "python",
   "pygments_lexer": "ipython3",
   "version": "3.6.3"
  }
 },
 "nbformat": 4,
 "nbformat_minor": 2
}
