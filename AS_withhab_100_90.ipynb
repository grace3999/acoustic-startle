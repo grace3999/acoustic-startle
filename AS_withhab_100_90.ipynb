{
 "cells": [
  {
   "cell_type": "markdown",
   "metadata": {},
   "source": [
    "Goal of analysis script is to take csv file of acoustic startle data (generated from the 'concatenate' function of SR Labs AS GUI) and analyze each AS block for each animal in the file. Six different blocks (with varrying numbers of trials). Result is excel file with a tab for each block."
   ]
  },
  {
   "cell_type": "markdown",
   "metadata": {},
   "source": [
    "Import numpy\n",
    "Import data from csv file and save as pre\n",
    "****want to be able to loop through this eventually"
   ]
  },
  {
   "cell_type": "code",
   "execution_count": 1,
   "metadata": {
    "collapsed": true
   },
   "outputs": [],
   "source": [
    "import numpy as np"
   ]
  },
  {
   "cell_type": "code",
   "execution_count": 2,
   "metadata": {},
   "outputs": [
    {
     "name": "stdout",
     "output_type": "stream",
     "text": [
      "E:/AS_1_17_18_3x_119.csv\n"
     ]
    }
   ],
   "source": [
    "from tkinter import filedialog\n",
    "from tkinter import *\n",
    " \n",
    "root = Tk()\n",
    "root.filename =  filedialog.askopenfilename(initialdir = \"/\",title = \"Select file\",filetypes = ((\"jpeg files\",\"*.jpg\"),(\"all files\",\"*.*\")))\n",
    "print (root.filename)"
   ]
  },
  {
   "cell_type": "code",
   "execution_count": 3,
   "metadata": {},
   "outputs": [
    {
     "name": "stdout",
     "output_type": "stream",
     "text": [
      "['1/17/201' '12:13:11' ' Hablow2' '482' ' No Entr' 'No Entry' '       1'\n",
      " '90dBAS  ' '      1 ' '2' '5' '39' '41' '5']\n"
     ]
    }
   ],
   "source": [
    "fulldata = np.genfromtxt(root.filename, delimiter=\",\", dtype=\"U8\")\n",
    "\n",
    "print(fulldata[1])"
   ]
  },
  {
   "cell_type": "markdown",
   "metadata": {},
   "source": [
    "Generate list of animal numbers for iteration use **animal_numbers[i]"
   ]
  },
  {
   "cell_type": "code",
   "execution_count": 4,
   "metadata": {},
   "outputs": [
    {
     "name": "stdout",
     "output_type": "stream",
     "text": [
      "['481', '482', '483', '491', '492', '531', '501', '502', '503', '521', '522', '523']\n"
     ]
    }
   ],
   "source": [
    "animal_numbers = []\n",
    "for row in fulldata:\n",
    "    if row[3] in animal_numbers:\n",
    "        animal_numbers\n",
    "    else: \n",
    "        animal_numbers.append(row[3])\n",
    "        \n",
    "print(animal_numbers)"
   ]
  },
  {
   "cell_type": "markdown",
   "metadata": {},
   "source": [
    "Parse data for animals into separate data sets (1 per animal) for iteration use **animal_data[animal_numbers[i]]"
   ]
  },
  {
   "cell_type": "code",
   "execution_count": 5,
   "metadata": {},
   "outputs": [
    {
     "name": "stdout",
     "output_type": "stream",
     "text": [
      "0\n",
      "1\n",
      "2\n",
      "3\n",
      "4\n",
      "5\n",
      "6\n",
      "7\n",
      "8\n",
      "9\n",
      "10\n",
      "11\n"
     ]
    }
   ],
   "source": [
    "data = {}\n",
    "i = 0\n",
    "while i < len(animal_numbers):\n",
    "    print(i)\n",
    "    animal = []\n",
    "    for row in fulldata:\n",
    "        if row[3] == animal_numbers[i]:\n",
    "            animal.append(row)\n",
    "    data[animal_numbers[i]] = animal\n",
    "    i = i + 1"
   ]
  },
  {
   "cell_type": "markdown",
   "metadata": {},
   "source": [
    "Find average basal startle level (assessed once per each two min break between blocks)"
   ]
  },
  {
   "cell_type": "code",
   "execution_count": 6,
   "metadata": {},
   "outputs": [
    {
     "name": "stdout",
     "output_type": "stream",
     "text": [
      "0\n",
      "1\n",
      "2\n",
      "3\n",
      "4\n",
      "5\n",
      "6\n",
      "7\n",
      "8\n",
      "9\n",
      "10\n",
      "11\n"
     ]
    }
   ],
   "source": [
    "i = 0\n",
    "twobreak_final = {}\n",
    "while i < len(animal_numbers):\n",
    "    print(i)\n",
    "    sum = 0\n",
    "    for row in data[animal_numbers[i]]:\n",
    "        if row[7] == data[animal_numbers[0]][50][7]:\n",
    "            sum = sum + np.int(row[11])\n",
    "    ave = sum/4\n",
    "    twobreak_final[animal_numbers[i]] = ave\n",
    "    i = i + 1  "
   ]
  },
  {
   "cell_type": "markdown",
   "metadata": {},
   "source": [
    "Block 1 is 50 trials of the same parameter (90dB). To assess habituation across trials, first bin by 10 trials and then put each animal's data into an array. "
   ]
  },
  {
   "cell_type": "code",
   "execution_count": 7,
   "metadata": {},
   "outputs": [
    {
     "name": "stdout",
     "output_type": "stream",
     "text": [
      "0\n",
      "1\n",
      "2\n",
      "3\n",
      "4\n",
      "5\n",
      "6\n",
      "7\n",
      "8\n",
      "9\n",
      "10\n",
      "11\n"
     ]
    }
   ],
   "source": [
    "i = 0\n",
    "block1ave_final = {}\n",
    "while i < len(animal_numbers):\n",
    "    print(i)\n",
    "    j = 0\n",
    "    ave_list = []\n",
    "    k = 0\n",
    "    sum = 0\n",
    "    while j < 50:\n",
    "        while k < 10:\n",
    "            sum = sum + np.int((data[animal_numbers[i]][j][11]))\n",
    "            k = k + 1\n",
    "            j = j + 1\n",
    "        ave = sum/10\n",
    "        ave_list.append(ave)\n",
    "        k = 0\n",
    "        sum = 0\n",
    "    block1ave_final[animal_numbers[i]] = ave_list\n",
    "    i = i + 1"
   ]
  },
  {
   "cell_type": "markdown",
   "metadata": {},
   "source": [
    "Block 2 is 50 trials of the same parameter (100dB). To assess habituation across trials, first bin by 10 trials and then put each animal's data into an array."
   ]
  },
  {
   "cell_type": "code",
   "execution_count": 9,
   "metadata": {},
   "outputs": [
    {
     "name": "stdout",
     "output_type": "stream",
     "text": [
      "0\n",
      "1\n",
      "2\n",
      "3\n",
      "4\n",
      "5\n",
      "6\n",
      "7\n",
      "8\n",
      "9\n",
      "10\n",
      "11\n"
     ]
    }
   ],
   "source": [
    "i = 0\n",
    "block2ave_final = {}\n",
    "while i < len(animal_numbers):\n",
    "    print(i)\n",
    "    j = 50\n",
    "    ave_list = []\n",
    "    k = 0\n",
    "    sum = 0\n",
    "    while j < 100:\n",
    "        while k < 10:\n",
    "            sum = sum + np.int((data[animal_numbers[i]][j][11]))\n",
    "            k = k + 1\n",
    "            j = j + 1\n",
    "        ave = sum/10\n",
    "        ave_list.append(ave)\n",
    "        k = 0\n",
    "        sum = 0\n",
    "    block2ave_final[animal_numbers[i]] = ave_list\n",
    "    i = i + 1"
   ]
  },
  {
   "cell_type": "markdown",
   "metadata": {},
   "source": [
    "Combine blocks with only one data point per animal into an array and put array into dictionary stored via animal"
   ]
  },
  {
   "cell_type": "code",
   "execution_count": 10,
   "metadata": {},
   "outputs": [
    {
     "name": "stdout",
     "output_type": "stream",
     "text": [
      "0\n",
      "1\n",
      "2\n",
      "3\n",
      "4\n",
      "5\n",
      "6\n",
      "7\n",
      "8\n",
      "9\n",
      "10\n",
      "11\n"
     ]
    }
   ],
   "source": [
    "i = 0\n",
    "aveblocks_final = {}\n",
    "aveblocks = [twobreak_final]\n",
    "while i < len(animal_numbers):\n",
    "    print(i)\n",
    "    j = 0\n",
    "    ave_final = []\n",
    "    while j < len(aveblocks):\n",
    "        ave_final.append(aveblocks[j][animal_numbers[i]])\n",
    "        j = j + 1\n",
    "    aveblocks_final[animal_numbers[i]] = ave_final\n",
    "    i = i + 1"
   ]
  },
  {
   "cell_type": "markdown",
   "metadata": {},
   "source": [
    "Create final lists of data and block names."
   ]
  },
  {
   "cell_type": "code",
   "execution_count": 11,
   "metadata": {
    "collapsed": true
   },
   "outputs": [],
   "source": [
    "final = [aveblocks_final, block1ave_final, block2ave_final]\n",
    "finalnames = ['aveblocks_final', 'block1ave_final', 'block2ave_final']"
   ]
  },
  {
   "cell_type": "markdown",
   "metadata": {},
   "source": [
    "Use pandas to convert each final block data into a dataframe. Use ExcelWriter to export each data frame to a separate tab in an excel workboook."
   ]
  },
  {
   "cell_type": "code",
   "execution_count": 12,
   "metadata": {},
   "outputs": [
    {
     "name": "stdout",
     "output_type": "stream",
     "text": [
      "0\n",
      "1\n",
      "2\n"
     ]
    }
   ],
   "source": [
    "import pandas as pd\n",
    "writer = pd.ExcelWriter(root.filename + '.analyzed.xlsx', engine='xlsxwriter')\n",
    "i = 0\n",
    "for row in final:\n",
    "    print(i)\n",
    "    df = pd.DataFrame(data=row)\n",
    "    df.to_excel(writer, sheet_name=finalnames[i])\n",
    "    i = i + 1\n",
    "writer.save()"
   ]
  },
  {
   "cell_type": "code",
   "execution_count": null,
   "metadata": {
    "collapsed": true
   },
   "outputs": [],
   "source": []
  }
 ],
 "metadata": {
  "kernelspec": {
   "display_name": "Python 3",
   "language": "python",
   "name": "python3"
  },
  "language_info": {
   "codemirror_mode": {
    "name": "ipython",
    "version": 3
   },
   "file_extension": ".py",
   "mimetype": "text/x-python",
   "name": "python",
   "nbconvert_exporter": "python",
   "pygments_lexer": "ipython3",
   "version": "3.6.1"
  }
 },
 "nbformat": 4,
 "nbformat_minor": 2
}
